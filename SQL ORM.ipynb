{
 "cells": [
  {
   "cell_type": "markdown",
   "metadata": {},
   "source": [
    "<h3>Python - SQL ORM - сценарий для TikTok @_rioran_</h3>"
   ]
  },
  {
   "cell_type": "markdown",
   "metadata": {},
   "source": [
    "Python - управление базой данных в стиле ORM!\n",
    "\n",
    "Где ORM - это object-relational mapping. Или по-русски \"Объектно-реляционное отображение\". Ну или совсем по-русски - вместо SQL кода работаем с классами и объектами.\n",
    "\n",
    "Код из этого ролика ищите на моём гитхабе, ссылка внутри профиля.\n",
    "\n",
    "Смотреть будем на примере sql алхимии, но упомяну что peewee тоже достойный инструмент. А если работаете с Django - у него своя встроенная ORM.\n",
    "\n",
    "Чтобы общаться с базой данных - нам нужен движок, подтянем его из основной библиотеки. Создадим движок под базу sqlite, дадим базе какое-нибудь мутное имя, пусть будет \"мои события\".\n",
    "\n",
    "Ещё, если интересно видеть каждый SQL-запрос, который под капотом будет отправлять движок - можете включить параметр echo. По умолчанию он выключен."
   ]
  },
  {
   "cell_type": "code",
   "execution_count": null,
   "metadata": {},
   "outputs": [],
   "source": [
    "from sqlalchemy import create_engine\n",
    "\n",
    "engine = create_engine('sqlite:///my_events.db')  # , echo=True)"
   ]
  },
  {
   "cell_type": "markdown",
   "metadata": {},
   "source": [
    "Чтобы с помощью движка строить объекты в базе - из orm библиотеки подтянем класс declarative_base и поднимем его инстанс с именем Base. "
   ]
  },
  {
   "cell_type": "code",
   "execution_count": null,
   "metadata": {},
   "outputs": [],
   "source": [
    "from sqlalchemy.orm import declarative_base\n",
    "\n",
    "Base = declarative_base()"
   ]
  },
  {
   "cell_type": "markdown",
   "metadata": {},
   "source": [
    "Всё, мы готовы поднимать базу и таблицы. Из основной библиотеки возьмём инструмент для объявления столбца таблицы и всякие типы данных.\n",
    "\n",
    "А из sql-ной части библиотеки - func для работы со встроенными функциями базы."
   ]
  },
  {
   "cell_type": "code",
   "execution_count": null,
   "metadata": {},
   "outputs": [],
   "source": [
    "from sqlalchemy import create_engine, \\\n",
    "    Column, Integer, String, DateTime\n",
    "\n",
    "from sqlalchemy.sql import func"
   ]
  },
  {
   "cell_type": "markdown",
   "metadata": {},
   "source": [
    "Предположим, мы хотим отслеживать логи событий, например. Для создания таблицы в базе объявим класс Event_Log.\n",
    "\n",
    "Дадим таблице имя, пусть будет events. Накидаем столбцы, хочу id как уникальный числовой ключ каждого события, текстовое имя и дату-время (datetime), чтобы заполнялось в момент создания по серверному времени.\n",
    "\n",
    "Волшебный метод repr не обязателен, но через него нам будет проще заглянуть в душу каждой строке из базы.\n",
    "\n",
    "Ну и наконец, чтобы файл базы появился на нашем диске, если его нет - через метаданные и движок всё создаём."
   ]
  },
  {
   "cell_type": "code",
   "execution_count": null,
   "metadata": {},
   "outputs": [],
   "source": [
    "class Event_Log(Base):\n",
    "    __tablename__ = 'events'\n",
    "\n",
    "    id = Column(Integer, primary_key=True)\n",
    "    name = Column(String)\n",
    "    dttm = Column(\n",
    "        DateTime(timezone=True), \n",
    "        server_default=func.now()\n",
    "    )\n",
    "\n",
    "    def __repr__(self):\n",
    "        return f'{self.id}: {self.name}'\n",
    "    \n",
    "Base.metadata.create_all(engine)"
   ]
  },
  {
   "cell_type": "markdown",
   "metadata": {},
   "source": [
    "Самый ходовой способ работы с базой - через механизм сессий, из orm-ки подтянем класс для их создания. И привяжемся к движку."
   ]
  },
  {
   "cell_type": "code",
   "execution_count": null,
   "metadata": {},
   "outputs": [],
   "source": [
    "from sqlalchemy.orm import declarative_base, sessionmaker\n",
    "\n",
    "Session = sessionmaker(bind=engine)"
   ]
  },
  {
   "cell_type": "markdown",
   "metadata": {},
   "source": [
    "Ну вот и всё, подготовительные шаги закончились, мы можем наполнять нашу базу данными. Давайте через сессию закинем несколько ивентов. Работаю через with - он же наше окно в контекстный менеджер - для автоматического закрытия сессии.\n",
    "\n",
    "После добавления в базу новых объектов - обязательно подтверждаем свои действия через коммит. А то вдруг мы дров наломаем - чтобы у базы была возможность наши действия проигнорировать."
   ]
  },
  {
   "cell_type": "code",
   "execution_count": null,
   "metadata": {},
   "outputs": [],
   "source": [
    "with Session() as session:\n",
    "    session.add(Event_Log(name=\"test\"))\n",
    "    session.add(Event_Log(name=\"one more\"))\n",
    "    session.add(Event_Log(name=\"rioran\"))\n",
    "    session.commit()"
   ]
  },
  {
   "cell_type": "markdown",
   "metadata": {},
   "source": [
    "Ну и наконец покажу мощь орм подхода, следите за руками - никакого SQL! Открываем сессию, проходимся по строкам таблицы, для каждой напечатаем душу события и дату-время. Обратите внимание, обращаюсь к дттм как к свойству класса!\n",
    "\n",
    "Ну и в конце выведем количество строк в базе. Просто к таблице внутри нашей сессии дописываем агрегатную функцию!"
   ]
  },
  {
   "cell_type": "code",
   "execution_count": null,
   "metadata": {},
   "outputs": [],
   "source": [
    "with Session() as session:\n",
    "    for event in session.query(Event_Log).all():\n",
    "        print(event, '// dttm =>', event.dttm)\n",
    "    print(\"Строк в базе:\", \\\n",
    "          session.query(Event_Log).count())"
   ]
  },
  {
   "cell_type": "markdown",
   "metadata": {},
   "source": [
    "Та-да! Всё, хватит складывать данные вашего гениального приложения в текстовые файлы, вы готовы выдать обнимашку настоящей автоматизации, ведь теперь вы знаете, какое крутое в..."
   ]
  }
 ],
 "metadata": {
  "kernelspec": {
   "display_name": "Python 3",
   "language": "python",
   "name": "python3"
  },
  "language_info": {
   "codemirror_mode": {
    "name": "ipython",
    "version": 3
   },
   "file_extension": ".py",
   "mimetype": "text/x-python",
   "name": "python",
   "nbconvert_exporter": "python",
   "pygments_lexer": "ipython3",
   "version": "3.8.5"
  }
 },
 "nbformat": 4,
 "nbformat_minor": 4
}
